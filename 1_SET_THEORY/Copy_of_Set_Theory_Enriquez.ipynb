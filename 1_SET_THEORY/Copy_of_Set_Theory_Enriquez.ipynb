{
  "nbformat": 4,
  "nbformat_minor": 0,
  "metadata": {
    "colab": {
      "provenance": []
    },
    "kernelspec": {
      "name": "python3",
      "display_name": "Python 3"
    },
    "language_info": {
      "name": "python"
    }
  },
  "cells": [
    {
      "cell_type": "code",
      "execution_count": null,
      "metadata": {
        "id": "gfzg1syMjYQH"
      },
      "outputs": [],
      "source": [
        "from matplotlib_venn import venn2, venn2_circles, venn2_unweighted\n",
        "from matplotlib_venn import venn3, venn3_circles\n",
        "from matplotlib import pyplot as plt\n",
        "import pandas as pd\n",
        "%matplotlib inline"
      ]
    },
    {
      "cell_type": "markdown",
      "source": [
        "#1. Proving Identities\n",
        "\n",
        "1. $A \\setminus B = A \\cap B^C$\n",
        "\n",
        "$\\textit{Proof:}$\n",
        "\n",
        "By the definition of complement, we have $B^C = \\mathcal{U} - B$, we cup both sides with the set $A$ and we will get, $A \\cap B^C = A \\cap \\mathcal{U} - A  \\cap $B (by the distributive law). Then by the Domination Law, $A \\cap \\mathcal {U} = A$, thus we will get, $A \\cap B^C = A -A \\cap B$. It follows by the definition that $A\\setminus B = A -A\\cap B$. Thus $A\\setminus B = A \\cap B^C = A -A \\cap B$.\n",
        "\n",
        "$\\textbf{Q.E.D.}$\n",
        "\n",
        "2. $B = (B \\cap A) \\cup (B \\cap A^C)$\n",
        "\n",
        "$\\textit{Proof:}$\n",
        "\n",
        "\\begin{align*}\n",
        "(B \\cap A) \\cup (B \\cap A^C) &= B \\cap (A \\cup A^C) & \\text{(Distributive law)} \\\n",
        "&= B \\cap (A \\cup \\overline{A}) & \\text{(Definition of complement, where }\\overline{A}\\text{ is the complement of }A) \\\n",
        "&= B \\cap \\emptyset & \\text{(By the complement law: }A \\cap \\overline{A} = \\emptyset\\text{)} \\\n",
        "&= \\emptyset & \\text{(By the domination law: }B \\cap \\emptyset = \\emptyset\\text{)}\n",
        "\\end{align*}\n",
        "\n",
        "Now, let's prove the right-hand side:\n",
        "\n",
        "Since we've shown that the left-hand side simplifies to $\\emptyset$ and the right-hand side is simply $B$, we've demonstrated that $(B \\cap A) \\cup (B \\cap A^C) = B$.\n",
        "\n",
        "$\\textbf{Q.E.D}$\n",
        "\n",
        "3. $B \\setminus A = B \\cap A^C$\n",
        "\n",
        "$\\textit{Proof:}$\n",
        "\n",
        "By the definition of complement, we have that $A^C = \\mathcal{U} - A$, we cup both sides with the set $B$ and we get, $B \\cap A^C = B \\cap \\mathcal{U} - B \\cap A$ (by the distributive law). Then by the Domination law, $B \\cap \\mathcal{U} = B$, thus we get,  $B \\cap A^C = B -B \\cap A$. It follows by definition that $B\\setminus A =  B - B\\cap A$. Thus $B\\setminus A = B \\cap A^C = B - B\\cap A$.\n",
        "\n",
        "$\\textbf{Q.E.D}$\n",
        "\n",
        "\n",
        "4. $A \\cup B = A \\cup (B\\cap A^C)$\n",
        "\n",
        "$\\textit{Proof:}$\n",
        "\n",
        "By Distributivity law, we have $A \\cup (B\\cap A^C) = (A \\cup B) \\cap (A \\cup A^C)$. Since the union of a set, and the set's complement is the universal set, it follows that by the domination law $(A \\cup B) \\cap \\mathcal{U} = A \\cup B$\n",
        "\n",
        "$\\textbf{Q.E.D}$\n",
        "\n",
        "5. $(\\bigcup_{i = 1}^{\\infty} A^C_i)^C = \\bigcap_{i = 1}^{\\infty}A_i$\n",
        "\n",
        "$\\textit{Proof:}$\n",
        "\n",
        "By De Morgan's Law, we can distribute the complement inside the parenthesis, and we have $\\bigcap_{i = 1}^{\\infty}(A_i^C)^C$. Then it follows by the Double Negation Law that, $\\bigcap_{i = 1}^{\\infty}(A_i^C)^C = \\bigcap_{i = 1}^{\\infty}A_i$\n",
        "\n",
        "$\\textbf{Q.E.D}$\n",
        "\n",
        "6. $|A \\cup B| = |A| + |B| - |A \\cap B|$\n",
        "\n",
        "$\\textit{Proof:}$\n",
        "\n",
        "Case 1: If $A$ and $B$ are disjoint\n",
        "\n",
        "By definition of disjoint sets, their intersection is the empty set, thus $|A \\cap B| = \\emptyset$. It follows that the cardinality of the two union of two sets is given  by $|A \\cup B| = |A| + |B|$\n",
        "\n",
        "Case 2: If $A$ and $B$ are not disjoint\n",
        "\n",
        "Let's start by counting the elements in both sets A and B. We know that by simply adding their sizes, we count all the unique elements in both sets. However, we need to correct for double-counting the elements that are in the intersection of A and B. So, we subtract that size of their intersection, denoted as $|A \\cap B|$, to account for this double-counting.\n",
        "\n",
        "Therefore, we have:\n",
        "\n",
        "  $|A \\cup B| = |A| + |B| - |A \\cap B|$\n",
        "\n",
        "  This formula gives us the size of the union of two sets A and B while correctly adjusting for the common elements in their intersection.\n",
        "\n",
        "  $\\textbf{Q.E.D}$"
      ],
      "metadata": {
        "id": "NuCgdDsOl4qd"
      }
    },
    {
      "cell_type": "markdown",
      "source": [
        "# 2. Sets and Subsets\n",
        "\n",
        "$A = \\{2, 3, 4, 5  \\}$\n",
        "$B = \\{x \\in \\mathbb{N} |  x \\text{ is even}\\}$. Is $A \\subset B$?\n",
        "\n",
        "We can demonstrate that $A$ is not a proper subset of $B$ by considering the elements 3 and 5. For $A$ to be a proper subset of $B$, two conditions must be met:\n",
        "\n",
        "1. $A$ must be a subset of $B$.\n",
        "2. There must be at least one element in $B$ that is not in $A$.\n",
        "\n",
        "However, the first condition is false in this case since $A$ contains elements that are not in $B$ (specifically, 3 and 5). Therefore, we have the truth statement for $A \\subset B$ as $\"False\"$ and $\"True\"$, which overall evaluates to $\"False.\"$\n",
        "\n",
        "Let sets,\n",
        "\n",
        "$\\textbf{A} = \\{ x | x \\in \\mathbb{Z}, 0 \\leq x \\leq 9 \\}$\n",
        "\n",
        "$\\textbf{B} = \\{2,4,6,8\\}$\n",
        "\n",
        "$\\textbf{C} = \\{ 1,3,5,7,9\\}$\n",
        "\n",
        "$\\textbf{D} = \\{ 3,4,5 \\}$\n",
        "\n",
        "Find a set $\\textbf{X}$ that satisfies the following:\n",
        "\n",
        "1. $\\textbf{X} $ and $\\textbf{B}$ are disjoint.\n",
        "\n",
        "2. $\\textbf{X} \\subseteq \\textbf{D}$ but $\\textbf{X} \\nsubseteq \\textbf{B}$.\n",
        "\n",
        "3. $\\textbf{X} \\subseteq \\textbf{A}$ but $\\textbf{X} \\not\\subset \\textbf{C}$\n",
        "\n",
        "\n",
        "# 3. Set Operations\n",
        "\n",
        "$\\textbf{U} = \\{1,2,3,4,5\\}$\n",
        "$\\textbf{A} = \\{1,2,3,4,5\\}$\n",
        "$\\textbf{B} = \\{4,5,6,7\\}$\n",
        "$\\textbf{C} = \\{5,6,7,8,9\\}$\n",
        "$\\textbf{D} = \\{1,3,5,7,9\\}$\n",
        "$\\textbf{E} = \\{2,4,6,8\\}$\n",
        "$\\textbf{F} = \\{1,5,9\\}$\n",
        "\n",
        "$\\textbf{C} \\oplus \\textbf{D}$\n",
        "\n",
        "$(C - D) \\cup (D - C) = \\{6, 8\\} \\cup \\{1, 3\\} = \\{1, 3, 6, 8\\}$\n",
        "\n",
        "$\\textbf{A} \\backslash \\textbf{B}$\n",
        "\n",
        "$A - B = \\{1, 2, 3\\}$\n",
        "\n",
        "$\\textbf{B} \\backslash \\textbf{A}$\n",
        "\n",
        "$B - A = \\{6, 7\\}$\n",
        "\n",
        "$\\textbf{E} \\oplus \\textbf{F}$\n",
        "\n",
        "$(E - F) \\cup (D - C) = \\{2, 4, 6, 8\\} \\cup \\{1, 5, 9\\} = \\{1, 2, 4, 5, 6, 8, 9\\}$\n",
        "\n"
      ],
      "metadata": {
        "id": "CrnpHMesmyKU"
      }
    },
    {
      "cell_type": "code",
      "source": [
        "#Pythonic Solutions\n",
        "\n",
        "U = {1,2,3,4,5}\n",
        "A = {1,2,3,4,5}\n",
        "B = {4,5,6,7}\n",
        "C = {5,6,7,8,9}\n",
        "D = {1,3,5,7,9}\n",
        "E = {2,4,6,8}\n",
        "F = {1,5,9}\n",
        "\n",
        "print(C ^ D)\n",
        "print(A - B)\n",
        "print(B - A)\n",
        "print(E ^ F)"
      ],
      "metadata": {
        "colab": {
          "base_uri": "https://localhost:8080/"
        },
        "id": "41BydRa3kAWK",
        "outputId": "d969c23f-15ce-4314-dc20-56bbb1ce5afd"
      },
      "execution_count": null,
      "outputs": [
        {
          "output_type": "stream",
          "name": "stdout",
          "text": [
            "{1, 3, 6, 8}\n",
            "{1, 2, 3}\n",
            "{6, 7}\n",
            "{1, 2, 4, 5, 6, 8, 9}\n"
          ]
        }
      ]
    },
    {
      "cell_type": "code",
      "source": [
        "venn3(subsets = (15, 12, 9, 11, 5, 4, 3), set_labels = ('air-conditioning', 'radio', 'power windows'))"
      ],
      "metadata": {
        "colab": {
          "base_uri": "https://localhost:8080/",
          "height": 424
        },
        "id": "mRngaZvDnXa6",
        "outputId": "e8629cca-6b67-47f6-906d-f2f78d9b3310"
      },
      "execution_count": null,
      "outputs": [
        {
          "output_type": "execute_result",
          "data": {
            "text/plain": [
              "<matplotlib_venn._common.VennDiagram at 0x7ad5f242d2d0>"
            ]
          },
          "metadata": {},
          "execution_count": 9
        },
        {
          "output_type": "display_data",
          "data": {
            "text/plain": [
              "<Figure size 640x480 with 1 Axes>"
            ],
            "image/png": "[encoded data removed]"
          },
          "metadata": {}
        }
      ]
    },
    {
      "cell_type": "markdown",
      "source": [
        "\"The number of people who have read 'exactly one' magazine can be determined as follows:\n",
        "\n",
        "$|Newsweek \\cup Times \\cup Fortune| = |Newsweek| + |Times| + |Fortune| - |Newsweek \\cap Times| - |Newsweek \\cap Fortune| - |Times \\cap Fortune| + |Newsweek \\cap Times \\cap Fortune| $\n",
        "\n",
        "$100 = 65 + 45 + 42 - 25 - 20 - 15 + 8$\n",
        "\n",
        "\"To determine the number of people who have read 'exactly one' magazine, we break it down as follows:\n",
        "\n",
        "For Fortune Readers:\n",
        "\n",
        " $ = |Fortune| - |Fortune \\cap Newsweek| - |Fortune \\cap Times| + |Newsweek \\cap Times \\cap Fortune| = 42 - 25 - 15 + 8 = 10$\n",
        "\n",
        "For Newsweek Readers:\n",
        "\n",
        " $ = |Newsweek| - |Newsweek \\cap Fortune| - |Newsweek \\cap Times| + |Newsweek \\cap Times \\cap Fortune| = 65 - 25 - 20 + 8 = 28$\n",
        "\n",
        "For Times Readers: $ = |Times| - |Times \\cap Fortune| - |Times \\cap Newsweek| + |Newsweek \\cap Times \\cap Fortune| = 45 - 15 - 20 + 8 = 18$.\n",
        "\n",
        "Therefore, the total number of people who have read 'exactly one' magazine is $10 (Fortune Readers) + 28 (Newsweek Readers) + 18 (Times Readers) = 56.\"$\n"
      ],
      "metadata": {
        "id": "dnMXAvTzlOEL"
      }
    },
    {
      "cell_type": "code",
      "source": [
        "venn3(subsets = (15, 12, 9, 11, 5, 4, 3), set_labels = ('air-conditioning', 'radio', 'power windows'))\n"
      ],
      "metadata": {
        "colab": {
          "base_uri": "https://localhost:8080/",
          "height": 424
        },
        "id": "2zPwmGcPkpkp",
        "outputId": "0bba39d4-8e23-486a-e17c-8fed11fcf97f"
      },
      "execution_count": null,
      "outputs": [
        {
          "output_type": "execute_result",
          "data": {
            "text/plain": [
              "<matplotlib_venn._common.VennDiagram at 0x7ad5f2554790>"
            ]
          },
          "metadata": {},
          "execution_count": 5
        },
        {
          "output_type": "display_data",
          "data": {
            "text/plain": [
              "<Figure size 640x480 with 1 Axes>"
            ],
            "image/png": "[encoded data removed]"
          },
          "metadata": {}
        }
      ]
    },
    {
      "cell_type": "markdown",
      "source": [
        "## 2. Find the number of cars with W only:\n",
        "$|W| - |W \\cap A| - |W \\cap R| + |W \\cap R \\cap A| = 11 - 5 - 4 + 3 = 5$\n",
        "3. Find the number of cars with A only.\n",
        "$|A| - |W \\cap A| - |A \\cap R| + |W \\cap R \\cap A| = 15 - 5 - 9 + 3 = 4$\n",
        "4. Find the number of cars with R only:\n",
        "$|R| - |R \\cap A| - |R \\cap W| + |W \\cap R \\cap A| = 12 - 9 - 4 + 3 =2$\n",
        "5. Find the number of cars with both R and W but not A:\n",
        "$|W \\cap R| - |W \\cap R \\cap A| = 4 - 3 = 1$\n",
        "6. Find the number of cars with both A and R but not W:\n",
        "$|A \\cap R| - |W \\cap R \\cap A| = 9 - 3 = 6$\n",
        "7. Find the number of cars with only one of the options:\n",
        "$|A \\text{ only }| + |W \\text{ only }| + |R \\text{ only }| = 5 + 4 + 2 = 11$\n",
        "8. Find the number of cars with at least one option:\n",
        "$|A \\cup R \\cup W| = |A| + |R| + |W| - |A \\cap W| - |A \\cap R| - |W \\cap R| + |A \\cap W \\cap R| = 15 + 11 + 12 - 5 - 9 - 4 + 3 = 23$\n",
        "9. Find the number of cars with none of the Options:\n",
        "$|\\mathcal{U}| - |A \\cup R \\cup W| = 25 - 23 = 2$"
      ],
      "metadata": {
        "id": "1RGdh-uinw7G"
      }
    }
  ]
}